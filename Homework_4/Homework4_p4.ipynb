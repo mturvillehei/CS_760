{
 "cells": [
  {
   "cell_type": "markdown",
   "metadata": {},
   "source": [
    "Morgan Turville-Heitz\n",
    "CS 760\n",
    "10/18/2023"
   ]
  },
  {
   "cell_type": "code",
   "execution_count": 214,
   "metadata": {},
   "outputs": [],
   "source": [
    "class myModel():\n",
    "\n",
    "    def __init__(self, w1_init, w2_init):\n",
    "        self.W_1 = w1_init\n",
    "        self.W_2 = w2_init\n",
    "        "
   ]
  },
  {
   "cell_type": "code",
   "execution_count": 215,
   "metadata": {},
   "outputs": [],
   "source": [
    "import numpy as np\n",
    "import matplotlib.pyplot as plt\n",
    "\n",
    "### Using TF for loading of the MNIST data, since it's built-in conveniently\n",
    "import tensorflow as tf\n"
   ]
  },
  {
   "cell_type": "code",
   "execution_count": 216,
   "metadata": {},
   "outputs": [],
   "source": [
    "def sigmoid(z):\n",
    "    return 1 / (1 + np.exp(-z))"
   ]
  },
  {
   "cell_type": "code",
   "execution_count": 217,
   "metadata": {
    "tags": [
     "Not used"
    ]
   },
   "outputs": [],
   "source": [
    "def first_Layer(x, W_1):\n",
    "    ### For some single datapoint, x = [x1:xd]\n",
    "    ### Take x * W1_j to be the input into sigmoid j\n",
    "    h = sigmoid(np.dot(W_1, x))\n",
    "    return(h)"
   ]
  },
  {
   "cell_type": "code",
   "execution_count": 218,
   "metadata": {
    "tags": [
     "Not used"
    ]
   },
   "outputs": [],
   "source": [
    "def softmax(h, W_2):\n",
    "    z = np.dot(W_2, h)\n",
    "    z -= np.max(z)  # For numerical stability\n",
    "    yhats = np.exp(z) / np.sum(np.exp(z))\n",
    "\n",
    "    return yhats"
   ]
  },
  {
   "cell_type": "code",
   "execution_count": 219,
   "metadata": {},
   "outputs": [],
   "source": [
    "(x_train, y_train), (x_test, y_test) = tf.keras.datasets.mnist.load_data()\n",
    "### Normalizing\n",
    "x_train = x_train.astype('float32') / 255.0\n",
    "x_test = x_test.astype('float32') / 255.0\n"
   ]
  },
  {
   "cell_type": "code",
   "execution_count": 220,
   "metadata": {},
   "outputs": [],
   "source": [
    "### SHUFFLING THE DATA HERE ###\n",
    "\n",
    "ind = np.arange(x_train.shape[0])\n",
    "np.random.shuffle(ind)\n",
    "x_train = x_train[ind]\n",
    "y_train = y_train[ind]\n",
    "\n",
    "### Shuffle the test data and labels\n",
    "ind = np.arange(x_test.shape[0])\n",
    "np.random.shuffle(ind)\n",
    "x_test = x_test[ind]\n",
    "y_test = y_test[ind]\n"
   ]
  },
  {
   "cell_type": "code",
   "execution_count": 221,
   "metadata": {},
   "outputs": [],
   "source": [
    "### Converting to vectors in d x 1 \n",
    "x_train = x_train.reshape(x_train.shape[0], 28*28) \n",
    "x_test = x_test.reshape(x_test.shape[0], 28*28) \n",
    "### Converting to (k x 1) one-hot vectors in y\n",
    "y_train = np.eye(10)[y_train]\n",
    "y_test = np.eye(10)[y_test]"
   ]
  },
  {
   "cell_type": "code",
   "execution_count": 222,
   "metadata": {},
   "outputs": [
    {
     "name": "stdout",
     "output_type": "stream",
     "text": [
      "Vectors X are 784 x 1 \n",
      "X Test dataset is (10000, 784)\n"
     ]
    }
   ],
   "source": [
    "#Getting length of x from the first row of x\n",
    "d = len(x_train[0])\n",
    "print(f\"Vectors X are {d} x 1 \")\n",
    "print(f\"X Test dataset is {x_test.shape}\")\n",
    "d1 = 300\n",
    "d2 = 10"
   ]
  },
  {
   "cell_type": "code",
   "execution_count": 223,
   "metadata": {},
   "outputs": [],
   "source": [
    "def mini_batches(X, Y, batch_size):\n",
    "    m = len(Y)\n",
    "    indices = np.arange(m)\n",
    "    np.random.shuffle(indices)\n",
    "    \n",
    "    for start_idx in range(0, m, batch_size):\n",
    "        batch_idx = indices[start_idx:start_idx + batch_size]\n",
    "        yield X[batch_idx], Y[batch_idx]"
   ]
  },
  {
   "cell_type": "code",
   "execution_count": null,
   "metadata": {
    "tags": [
     "Not used"
    ]
   },
   "outputs": [],
   "source": [
    "#W_1 = np.zeros((d1, d))\n",
    "#W_2 = np.zeros((d2, d1))\n",
    "W_1 = np.random.randn(d1, d) * 0.01\n",
    "W_2 = np.random.randn(d2, d1) * 0.01\n",
    "\n",
    "### Please note that I defined this myself, just to keep track of my weight vectors. I am not using a built-in Model method here.\n",
    "model = myModel(W_1, W_2)\n",
    "\n",
    "train_e = []\n",
    "test_e = []\n",
    "\n",
    "\n",
    "epochs = 15\n",
    "alpha = 0.006\n",
    "batch_size = 64  \n",
    "\n",
    "num_batches = len(x_train) // batch_size\n",
    "if len(x_train) % batch_size != 0:\n",
    "    num_batches += 1\n",
    "print(f\"Number of batches: {num_batches}\")\n",
    "interval = num_batches // 4\n",
    "\n",
    "for i in range(0, epochs):\n",
    "    print(f\"Epoch = {i}\")\n",
    "    \n",
    "    for j, (x_batch, y_batch) in enumerate(mini_batches(x_train, y_train, batch_size)):\n",
    "        dW1_total = np.zeros_like(model.W_1)\n",
    "        dW2_total = np.zeros_like(model.W_2)\n",
    "        \n",
    "        batch_loss = 0\n",
    "\n",
    "        for x_train_SGD, y_train_SGD in zip(x_batch, y_batch):\n",
    "            h = first_Layer(x_train_SGD, model.W_1)\n",
    "            yhats = softmax(h, model.W_2)\n",
    "            \n",
    "            epsilon = 1e-10\n",
    "            cross_loss = -np.sum(y_train_SGD * np.log(yhats + epsilon))\n",
    "            batch_loss += cross_loss\n",
    "\n",
    "            ### Backwards pass\n",
    "            e_term = yhats - y_train_SGD\n",
    "            sum_Term = h * (1 - h) * np.dot(model.W_2.T, e_term)\n",
    "            \n",
    "            dW2_total += np.outer(e_term, h)\n",
    "            dW1_total += np.outer(sum_Term, x_train_SGD)\n",
    "        \n",
    "        model.W_2 = model.W_2 - alpha * (dW2_total / batch_size)\n",
    "        model.W_1 = model.W_1 - alpha * (dW1_total / batch_size)\n",
    "\n",
    "        if j % 30 == 0:\n",
    "            train_e.append(batch_loss / batch_size)\n",
    "\n",
    "            total_test_loss = 0\n",
    "            for x_test_SGD, y_test_SGD in zip(x_test, y_test):\n",
    "                htest = first_Layer(x_test_SGD, model.W_1)\n",
    "                yhatstest = softmax(htest, model.W_2)\n",
    "                epsilon = 1e-10\n",
    "                cross_loss_test = -np.sum(y_test_SGD * np.log(yhatstest + epsilon))\n",
    "                total_test_loss += cross_loss_test\n",
    "            test_e.append(total_test_loss / len(x_test))\n",
    "\n",
    "            print(f\"  Batch {j}/{num_batches} - Training loss: {batch_loss / batch_size:.4f} - Average Test loss: {total_test_loss / len(x_test):.4f}\")\n"
   ]
  },
  {
   "cell_type": "markdown",
   "metadata": {},
   "source": [
    "The above is old code - below is what I am using after vectorizing the model for mini-batch."
   ]
  },
  {
   "cell_type": "code",
   "execution_count": null,
   "metadata": {},
   "outputs": [],
   "source": [
    "W_1 = np.random.randn(d1, d) * 0.01\n",
    "W_2 = np.random.randn(d2, d1) * 0.01\n",
    "\n",
    "### Please note that I defined this myself, just to keep track of my weight vectors. I am not using a built-in Model method here.\n",
    "model = myModel(W_1, W_2)\n",
    "\n",
    "train_e = []\n",
    "test_e = []\n",
    "\n",
    "\n",
    "epochs = 300\n",
    "alpha = 0.03\n",
    "batch_size = 64  \n",
    "\n",
    "num_batches = len(x_train) // batch_size\n",
    "if len(x_train) % batch_size != 0:\n",
    "    num_batches += 1\n",
    "print(f\"Number of batches: {num_batches}\")\n",
    "interval = num_batches // 4\n",
    "\n",
    "\n",
    "for i in range(epochs):\n",
    "    print(f\"Epoch = {i}\")\n",
    "    \n",
    "    for j, (x_batch, y_batch) in enumerate(mini_batches(x_train, y_train, batch_size)):\n",
    "        # Forward pass\n",
    "        h = first_Layer(x_batch, model.W_1)\n",
    "        yhats = softmax(h, model.W_2)\n",
    "        \n",
    "        epsilon = 1e-10\n",
    "        cross_loss = -np.sum(y_batch * np.log(yhats + epsilon), axis=1)\n",
    "        batch_loss = np.sum(cross_loss)\n",
    "\n",
    "        # Backward pass\n",
    "        e_term = yhats - y_batch\n",
    "        sum_Term = h * (1 - h) * np.dot(e_term, model.W_2)\n",
    "        \n",
    "        dW2_total = np.dot(e_term.T, h)\n",
    "        dW1_total = np.dot(sum_Term.T, x_batch)\n",
    "\n",
    "        # Update weights\n",
    "        model.W_2 -= alpha * (dW2_total / batch_size)\n",
    "        model.W_1 -= alpha * (dW1_total / batch_size)\n",
    "\n",
    "        de = 100\n",
    "        if j % de == 0:\n",
    "            train_e.append(batch_loss / batch_size)\n",
    "\n",
    "            # Test phase vectorized\n",
    "            htest = first_Layer(x_test, model.W_1)\n",
    "            yhatstest = softmax(htest, model.W_2)\n",
    "            cross_loss_test = -np.sum(y_test * np.log(yhatstest + epsilon), axis=1)\n",
    "            total_test_loss = np.sum(cross_loss_test)\n",
    "\n",
    "            test_e.append(total_test_loss / len(x_test))\n",
    "\n",
    "            print(f\"  Batch {j}/{num_batches} - Training loss: {batch_loss / batch_size:.4f} - Average Test loss: {total_test_loss / len(x_test):.4f}\")\n",
    "       "
   ]
  },
  {
   "cell_type": "code",
   "execution_count": 256,
   "metadata": {},
   "outputs": [
    {
     "data": {
      "image/png": "[encoded data removed]",
      "text/plain": [
       "<Figure size 720x432 with 1 Axes>"
      ]
     },
     "metadata": {
      "needs_background": "light"
     },
     "output_type": "display_data"
    }
   ],
   "source": [
    "points_per_epoch = num_batches // 100  # Number of times data is appended per epoch\n",
    "avg_train_e_per_epoch = [np.mean(train_e[i * points_per_epoch: (i + 1) * points_per_epoch]) for i in range(epochs)]\n",
    "avg_test_e_per_epoch = [np.mean(test_e[i * points_per_epoch: (i + 1) * points_per_epoch]) for i in range(epochs)]\n",
    "\n",
    "epochs_range = range(1, epochs + 1)\n",
    "\n",
    "plt.figure(figsize=(10, 6))\n",
    "plt.plot(epochs_range, avg_train_e_per_epoch, label='Average Training Error')\n",
    "plt.plot(epochs_range, avg_test_e_per_epoch, label='Average Testing Error')\n",
    "plt.title('Training and Testing Error with 64-batch - My implementation, init weights to random')\n",
    "plt.xlabel('Epochs')\n",
    "plt.ylabel('Error')\n",
    "plt.legend()\n",
    "plt.grid(True)\n",
    "plt.show()\n",
    "\n"
   ]
  },
  {
   "cell_type": "markdown",
   "metadata": {},
   "source": [
    "Finding overall test error"
   ]
  },
  {
   "cell_type": "code",
   "execution_count": null,
   "metadata": {},
   "outputs": [],
   "source": [
    "# Forward pass for entire test set\n",
    "htest = first_Layer(x_test, model.W_1)\n",
    "yhatstest = softmax(htest, model.W_2)\n",
    "\n",
    "# Cross-entropy error computation\n",
    "epsilon = 1e-10\n",
    "cross_loss_test = -np.sum(y_test * np.log(yhatstest + epsilon), axis=1)\n",
    "total_error = np.sum(cross_loss_test)\n",
    "\n",
    "# Compute number of correct predictions\n",
    "correct_predictions = np.sum(np.argmax(yhatstest, axis=1) == np.argmax(y_test, axis=1))\n",
    "\n",
    "# Average error and accuracy\n",
    "average_error = total_error / len(x_test)\n",
    "accuracy = (correct_predictions / len(x_test)) * 100\n",
    "\n",
    "print(f\"Total Error on Test: {total_error}\")\n",
    "print(f\"Average Error on Test: {average_error}\")\n",
    "print(f\"Accuracy on Test: {accuracy:.2f}%\")"
   ]
  },
  {
   "cell_type": "markdown",
   "metadata": {},
   "source": [
    "Implementing PyTorch now"
   ]
  },
  {
   "cell_type": "code",
   "execution_count": null,
   "metadata": {},
   "outputs": [],
   "source": [
    "import torch\n",
    "import torch.nn as nn\n",
    "import torch.optim as optim\n",
    "from torch.utils.data import DataLoader, TensorDataset"
   ]
  },
  {
   "cell_type": "code",
   "execution_count": null,
   "metadata": {},
   "outputs": [],
   "source": [
    "class NN(nn.Module):\n",
    "    def __init__(self, input_dim, hidden_dim, output_dim):\n",
    "        super(NN, self).__init__()\n",
    "        ### Implementing the same architecture as I used for my from-scratch model\n",
    "        self.layer1 = nn.Linear(input_dim, hidden_dim)\n",
    "        self.sigmoid = nn.Sigmoid()\n",
    "        self.layer2 = nn.Linear(hidden_dim, output_dim)\n",
    "\n",
    "    def forward(self, x):\n",
    "        x = self.layer1(x)\n",
    "        x = self.sigmoid(x)\n",
    "        x = self.layer2(x)\n",
    "        return x"
   ]
  },
  {
   "cell_type": "code",
   "execution_count": null,
   "metadata": {},
   "outputs": [],
   "source": [
    "x_train_tensor = torch.tensor(x_train, dtype=torch.float32)\n",
    "y_train_labels = torch.tensor(np.argmax(y_train, axis=1), dtype=torch.long)  # Convert one-hot to class indices\n",
    "x_test_tensor = torch.tensor(x_test, dtype=torch.float32)\n",
    "y_test_labels = torch.tensor(np.argmax(y_test, axis=1), dtype=torch.long)\n",
    "\n",
    "train_dataset = torch.utils.data.TensorDataset(x_train_tensor, y_train_labels)\n",
    "test_dataset = torch.utils.data.TensorDataset(x_test_tensor, y_test_labels)\n",
    "\n",
    "### Using the same batch size as I used previously\n",
    "batch_size = 32\n",
    "\n",
    "train_loader = torch.utils.data.DataLoader(dataset=train_dataset, batch_size=batch_size, shuffle=True)\n",
    "test_loader = torch.utils.data.DataLoader(dataset=test_dataset, batch_size=batch_size)\n"
   ]
  },
  {
   "cell_type": "code",
   "execution_count": 260,
   "metadata": {},
   "outputs": [],
   "source": [
    "d1_pt = 300\n",
    "output = 10\n",
    "d_pt = 28 * 28\n",
    "lr = 0.0003\n",
    "model = NN(d_pt, d1_pt, output)\n",
    "\n",
    "### Part 4 problem 4 a)\n",
    "# with torch.no_grad():\n",
    "#     model.layer1.weight.fill_(0.0)\n",
    "#     model.layer1.bias.fill_(0.0)\n",
    "#     model.layer2.weight.fill_(0.0)\n",
    "#     model.layer2.bias.fill_(0.0)\n",
    "\n",
    "# Part 4 problem 4 b)\n",
    "# with torch.no_grad():\n",
    "#     model.layer1.weight.uniform_(-1, 1)\n",
    "#     model.layer1.bias.uniform_(-1, 1)\n",
    "#     model.layer2.weight.uniform_(-1, 1)\n",
    "#     model.layer2.bias.uniform_(-1, 1)\n",
    "\n",
    "criterion = nn.CrossEntropyLoss()\n",
    "optimizer = optim.Adam(model.parameters(), lr=lr)\n",
    "epochs = 35\n"
   ]
  },
  {
   "cell_type": "code",
   "execution_count": null,
   "metadata": {},
   "outputs": [],
   "source": [
    "train_losses = []\n",
    "test_losses = []\n",
    "\n",
    "for epoch in range(epochs):\n",
    "    train_loss = 0\n",
    "    for batch_idx, (data, target) in enumerate(train_loader):   # Iterate over batches\n",
    "        optimizer.zero_grad()\n",
    "        outputs = model(data)\n",
    "        loss = criterion(outputs, target)\n",
    "        train_loss += loss.item()\n",
    "        loss.backward()\n",
    "        optimizer.step()\n",
    "\n",
    "    avg_train_loss = train_loss / len(train_loader)\n",
    "    train_losses.append(avg_train_loss)\n",
    "\n",
    "    test_loss = 0\n",
    "    with torch.no_grad():\n",
    "        for data, target in test_loader:\n",
    "            outputs = model(data)\n",
    "            loss = criterion(outputs, target)\n",
    "            test_loss += loss.item()\n",
    "    \n",
    "    avg_test_loss = test_loss / len(test_loader)\n",
    "    test_losses.append(avg_test_loss)\n",
    "\n",
    "    print(f\"Epoch {epoch+1}/{epochs}, Training Loss: {avg_train_loss:.4f}, Test Loss: {avg_test_loss:.4f}\")\n"
   ]
  },
  {
   "cell_type": "code",
   "execution_count": null,
   "metadata": {},
   "outputs": [],
   "source": [
    "plt.figure(figsize=(12, 6))\n",
    "plt.plot(train_losses, label=\"Training Loss\")\n",
    "plt.plot(test_losses, label=\"Test Loss\")\n",
    "plt.xlabel(\"Epochs\")\n",
    "plt.ylabel(\"Loss\")\n",
    "plt.title(\"Training and Test Loss over Epochs - 64-batch size PyTorch Mini-batch implementation\")\n",
    "plt.legend()\n",
    "plt.grid(True)\n",
    "plt.show()"
   ]
  },
  {
   "cell_type": "code",
   "execution_count": null,
   "metadata": {},
   "outputs": [],
   "source": [
    "correct = 0\n",
    "N = 0\n",
    "\n",
    "with torch.no_grad():  \n",
    "    for data, target in test_loader:\n",
    "        outputs = model(data)\n",
    "        _, predicted = outputs.max(1)\n",
    "        correct += (predicted == target).sum().item()\n",
    "        N += target.size(0)\n",
    "\n",
    "accuracy = correct / N * 100\n",
    "\n",
    "print(f\"Total Error on Test Set: {test_losses[-1]:.4f}\")\n",
    "print(f\"Total Accuracy on Test Set: {accuracy:.2f}%\")"
   ]
  }
 ],
 "metadata": {
  "kernelspec": {
   "display_name": "Python 3",
   "language": "python",
   "name": "python3"
  },
  "language_info": {
   "codemirror_mode": {
    "name": "ipython",
    "version": 3
   },
   "file_extension": ".py",
   "mimetype": "text/x-python",
   "name": "python",
   "nbconvert_exporter": "python",
   "pygments_lexer": "ipython3",
   "version": "3.9.6"
  }
 },
 "nbformat": 4,
 "nbformat_minor": 2
}
