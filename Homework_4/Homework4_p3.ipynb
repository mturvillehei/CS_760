{
 "cells": [
  {
   "cell_type": "markdown",
   "metadata": {},
   "source": [
    "Morgan Turville-Heitz\n",
    "CS 760\n",
    "10/18/2023"
   ]
  },
  {
   "cell_type": "code",
   "execution_count": 1,
   "metadata": {},
   "outputs": [],
   "source": [
    "\n",
    "import pandas as pd\n",
    "import numpy as np\n",
    "import os\n",
    "import ipykernel\n",
    "import re\n"
   ]
  },
  {
   "cell_type": "markdown",
   "metadata": {},
   "source": [
    "Defining the Doc class, where counts/vectors are stored for each document."
   ]
  },
  {
   "cell_type": "code",
   "execution_count": 2,
   "metadata": {},
   "outputs": [],
   "source": [
    "class docRegistry(type):\n",
    "    def __iter__(cls):\n",
    "        return iter(cls._registry)\n",
    "    "
   ]
  },
  {
   "cell_type": "code",
   "execution_count": 3,
   "metadata": {},
   "outputs": [],
   "source": [
    "class Doc(metaclass=docRegistry):\n",
    "    _registry = []\n",
    "    \n",
    "    def __init__(self, raw, fn, testset):\n",
    "        self._registry.append(self)\n",
    "        self.fn = fn\n",
    "        self.vector = self.vectorize(raw)\n",
    "        self.char_counts = self.count(self.vector)\n",
    "        self.label = fn[0]\n",
    "        self.pe = None\n",
    "        self.pj = None\n",
    "        self.ps = None\n",
    "        self.testset = testset\n",
    "\n",
    "    def vectorize(self, data):\n",
    "        ### Stripping newlines/special characters\n",
    "        filtered = ''.join([char for char in data if char.isalpha() or char == ' '])\n",
    "        return list(filtered)\n",
    "\n",
    "    def count(self, vector):\n",
    "        count = {char: 0 for char in 'abcdefghijklmnopqrstuvwxyz '}\n",
    "        for char in vector:\n",
    "            count[char]+=1\n",
    "        return count\n"
   ]
  },
  {
   "cell_type": "markdown",
   "metadata": {},
   "source": [
    "For each language, I have a separate class."
   ]
  },
  {
   "cell_type": "markdown",
   "metadata": {},
   "source": [
    "Natural log form of the class conditional probability is \n",
    "$$\\ln(P(c_{i}|e)) = \\ln(n(c_{i,e}) + \\alpha) - \\ln(N_{c} + |c| \\alpha)$$"
   ]
  },
  {
   "cell_type": "code",
   "execution_count": 4,
   "metadata": {},
   "outputs": [],
   "source": [
    "class label(metaclass=docRegistry):\n",
    "    _registry = []\n",
    "    def __init__(self, prior, smoothing=0.5):\n",
    "        self._registry.append(self)\n",
    "        self.prior = prior\n",
    "        self.char_count = None\n",
    "        self.ntot = None\n",
    "        self.smoothing = smoothing\n",
    "        self.lncc = None\n",
    "        self.pcc = None\n",
    "\n",
    "    def class_conditional(self):\n",
    "        lncc = {char: 0 for char in 'abcdefghijklmnopqrstuvwxyz '}\n",
    "        ctot = 27\n",
    "        for char in lncc.keys():\n",
    "            d = np.log(self.char_count[char] + self.smoothing)\n",
    "            n = np.log(self.ntot + self.smoothing * ctot)\n",
    "            lncc[char] = d - n\n",
    "        self.lncc = lncc\n",
    "        return lncc\n",
    "    \n",
    "    def convert_P(self):\n",
    "        lncc = self.lncc\n",
    "        self.pcc = {char: np.exp(val) for char, val in lncc.items()}\n",
    "        return self.pcc\n"
   ]
  },
  {
   "cell_type": "markdown",
   "metadata": {},
   "source": [
    "Loading files, creating the Doc class for each file."
   ]
  },
  {
   "cell_type": "code",
   "execution_count": 5,
   "metadata": {},
   "outputs": [
    {
     "name": "stdout",
     "output_type": "stream",
     "text": [
      "60\n"
     ]
    }
   ],
   "source": [
    "direc = r\"C:\\Users\\Meau\\Documents\\GRAD SCHOOL\\CS 760\\Hw4\\languageID\"\n",
    "files = os.listdir(direc)\n",
    "for txtfile in files:\n",
    "    testset = False\n",
    "    numlabel = int(re.search(r'(\\d+)', txtfile).group(1))\n",
    "    if int(numlabel) > 9:\n",
    "        #print(f\"Added to testset: {txtfile}\")\n",
    "        testset = True\n",
    "    path = os.path.join(direc, txtfile)\n",
    "    with open(path, 'r') as file:\n",
    "        raw = file.read().replace('\\n', '')\n",
    "    Doc(raw, str(txtfile), testset)\n",
    "print(len(Doc._registry))"
   ]
  },
  {
   "cell_type": "markdown",
   "metadata": {},
   "source": [
    "Calculating the priors, with additive smoothing $$ P(x) = \\frac{n(x) + \\alpha}{N + k \\alpha }, \\alpha = \\frac{1}{2} $$ \n"
   ]
  },
  {
   "cell_type": "code",
   "execution_count": 6,
   "metadata": {},
   "outputs": [
    {
     "name": "stdout",
     "output_type": "stream",
     "text": [
      "Priors for languages are: {'e': 0.3333333333333333, 's': 0.3333333333333333, 'j': 0.3333333333333333}\n"
     ]
    }
   ],
   "source": [
    "counts = {\"e\":0, \"s\":0, \"j\":0}\n",
    "logpriors = {\"e\":0, \"s\":0, \"j\":0}\n",
    "alpha = 0.5\n",
    "Nd = 0\n",
    "k = 3\n",
    "for doc in Doc:\n",
    "    if doc.testset:\n",
    "        #print(f'Testset for doc {doc.fn}')\n",
    "        continue\n",
    "    Nd += 1\n",
    "    counts[doc.label] += 1\n",
    "\n",
    "for la in counts.keys():\n",
    "    logpriors[la] = np.log((counts[la] + alpha ) / (Nd + k * alpha))\n",
    "    \n",
    "e = label(logpriors[\"e\"])\n",
    "s = label(logpriors[\"s\"])\n",
    "j = label(logpriors[\"j\"])\n",
    "\n",
    "priors = {la : np.exp(logpriors[la]) for la in logpriors.keys()}\n",
    "print(f\"Priors for languages are: {priors}\")"
   ]
  },
  {
   "cell_type": "markdown",
   "metadata": {},
   "source": [
    "Class conditional probability is $\\theta_{i,e}\\coloneqq \\hat{p} (c_{i} | y = e)$ for $i$-th character $c_{i}$.\n",
    "$\\theta_{i,e}$ is the multinomial parameter.\n",
    "\n",
    "With additive smoothing, this becomes $$ P(c_{i}|e) = \\frac{n(c_{i,e}) + \\alpha}{N_{c} + |c| \\alpha } $$\n",
    "where $ |c| $ is the number of characters (in this case, 27).\n",
    "Looking for the conditional probability so we can find the a posteriori with prior.\n"
   ]
  },
  {
   "cell_type": "code",
   "execution_count": 7,
   "metadata": {},
   "outputs": [],
   "source": [
    "\n",
    "ctot = {char: 0 for char in 'abcdefghijklmnopqrstuvwxyz '}\n",
    "ntot = 0\n",
    "for doc in Doc:\n",
    "    if doc.testset:\n",
    "        #print(f'Testset for doc {doc.fn}')\n",
    "        continue\n",
    "    if doc.label != \"e\":\n",
    "        continue\n",
    "\n",
    "    count = doc.char_counts\n",
    "    for char, char_count in count.items():\n",
    "        ntot += char_count\n",
    "        ctot[char] += char_count\n",
    "e.char_count = ctot\n",
    "e.ntot = ntot\n",
    "\n",
    "ctot = {char: 0 for char in 'abcdefghijklmnopqrstuvwxyz '}\n",
    "ntot = 0\n",
    "for doc in Doc:\n",
    "    if doc.testset:\n",
    "        #print(f'Testset for doc {doc.fn}')\n",
    "        continue\n",
    "    if doc.label != \"s\":\n",
    "        continue\n",
    "\n",
    "    count = doc.char_counts\n",
    "    for char, char_count in count.items():\n",
    "        ntot += char_count\n",
    "        ctot[char] += char_count\n",
    "s.char_count = ctot\n",
    "s.ntot = ntot\n",
    "\n",
    "ctot = {char: 0 for char in 'abcdefghijklmnopqrstuvwxyz '}\n",
    "ntot = 0\n",
    "for doc in Doc:\n",
    "    if doc.testset:\n",
    "        #print(f'Testset for doc {doc.fn}')\n",
    "        continue\n",
    "    if doc.label != \"j\":\n",
    "        continue\n",
    "\n",
    "    count = doc.char_counts\n",
    "    for char, char_count in count.items():\n",
    "        ntot += char_count\n",
    "        ctot[char] += char_count\n",
    "j.char_count = ctot\n",
    "j.ntot = ntot\n"
   ]
  },
  {
   "cell_type": "markdown",
   "metadata": {},
   "source": [
    "Class conditional probabilities (and their natural log) is calculated in the label class. Printing here."
   ]
  },
  {
   "cell_type": "code",
   "execution_count": 8,
   "metadata": {},
   "outputs": [
    {
     "name": "stdout",
     "output_type": "stream",
     "text": [
      "Class conditional log probabilities for English are: {'a': -2.810606128598179, 'b': -4.497664277973426, 'c': -3.839237566117218, 'd': -3.8179601676699333, 'e': -2.2502845413157297, 'f': -3.9668614916110476, 'g': -4.046758776467488, 'h': -3.05301703039592, 'i': -2.8929854465025784, 'j': -6.556547092632226, 'k': -5.590359389613447, 'l': -3.5412402159536045, 'm': -3.8864161263923087, 'n': -2.848663323404553, 'o': -2.7416498677026766, 'p': -4.089236204734604, 'q': -7.484533864269571, 'r': -2.9220255997237423, 's': -2.7153458726599693, 't': -2.5241604049542037, 'u': -3.6244235400558384, 'v': -4.679392538992041, 'w': -4.167144439879508, 'x': -6.7623991468363736, 'y': -4.27987628840365, 'z': -7.373308229159347, ' ': -1.7189740299171268}\n",
      "Class conditional log probabilities for Spanish are: {'a': -2.2579898923463224, 'b': -4.799621376071712, 'c': -3.2827259414844336, 'd': -3.2252480315327743, 'e': -2.173217331441963, 'f': -4.755658252650596, 'g': -4.93583158090626, 'h': -5.396437447693225, 'i': -2.9985421748948546, 'j': -5.016232006344299, 'k': -8.189645457135741, 'l': -2.9385361735744855, 'm': -3.657045963982486, 'n': -2.9155069462848644, 'o': -2.6242739859318913, 'p': -3.718641786054558, 'q': -4.869417138007254, 'r': -2.8252282888831814, 's': -2.7215853160006107, 't': -3.3350144115160676, 'u': -3.3901885462954224, 'v': -5.1345966064253314, 'w': -9.288257745803852, 'x': -5.992420879799523, 'y': -4.845606489313535, 'z': -5.920961915817378, ' ': -1.7822155672857294}\n",
      "Class conditional log probabilities for Japanese are: {'a': -2.0267306146406687, 'b': -4.522033199719792, 'c': -5.205580306550718, 'd': -4.061316937856336, 'e': -2.8100038753710965, 'f': -5.552295910586692, 'g': -4.267864684592457, 'h': -3.4494810177215474, 'i': -2.3326996245922267, 'j': -6.0571334925080595, 'k': -2.8575469938617584, 'l': -6.548254045194718, 'm': -3.2239201484518443, 'n': -2.869794544384435, 'o': -2.3951038267622975, 'p': -7.042950287030825, 'q': -9.163213823230917, 'r': -3.151129988920199, 's': -3.1659328908014945, 't': -2.8648775092780125, 'u': -2.650478394495405, 'v': -8.315915962843713, 'w': -3.925000380752585, 'x': -10.261826111899026, 'y': -4.2579390447924865, 'z': -4.863663410381273, ' ': -2.0919234645398808}\n",
      "Class conditional probabilities for English are: {'a': 0.060168511481909825, 'b': 0.011134974392863043, 'c': 0.021509995043779956, 'd': 0.02197257558235586, 'e': 0.10536923839418473, 'f': 0.018932760614571296, 'g': 0.017478936064761277, 'h': 0.04721625640178424, 'i': 0.055410540227986145, 'j': 0.0014207830827688743, 'k': 0.00373368577564844, 'l': 0.028977366595076822, 'm': 0.020518751032545846, 'n': 0.057921691723112505, 'o': 0.06446390219725755, 'p': 0.016752023789856275, 'q': 0.0005617049396993228, 'r': 0.05382454981001157, 's': 0.06618205848339667, 't': 0.08012555757475635, 'u': 0.026664463902197268, 'v': 0.009284652238559397, 'w': 0.015496448042293076, 'x': 0.0011564513464397824, 'y': 0.013844374690236244, 'z': 0.0006277878737815959, ' ': 0.1792499586981663}\n",
      "Class conditional probabilities for Spanish are: {'a': 0.10456045141993778, 'b': 0.008232863618143139, 'c': 0.03752582405722923, 'd': 0.03974592211155993, 'e': 0.11381085997964913, 'f': 0.00860287996053159, 'g': 0.00718448398137585, 'h': 0.00453270019425858, 'i': 0.04985970213684439, 'j': 0.006629459467793161, 'k': 0.0002775122567913419, 'l': 0.05294317165674821, 'm': 0.02580863988159478, 'n': 0.054176559464709693, 'o': 0.0724923684129383, 'p': 0.024266905121642878, 'q': 0.007677839104560452, 'r': 0.05929511886775002, 's': 0.06577040485954799, 't': 0.035614072954888845, 'u': 0.03370232185254851, 'v': 0.005889426783016252, 'w': 9.250408559711385e-05, 'x': 0.0024976103111220742, 'y': 0.007862847275754686, 'z': 0.002682618482316303, ' ': 0.1682649317011502}\n",
      "Class conditional probabilities for Japanese are: {'a': 0.131765610258919, 'b': 0.010866906600510153, 'c': 0.005485866033054968, 'd': 0.01722631818022992, 'e': 0.06020475907613825, 'f': 0.0038785422271917264, 'g': 0.01401167056850345, 'h': 0.03176211607673225, 'i': 0.09703343932352636, 'j': 0.0023411020650616747, 'k': 0.05740941332681086, 'l': 0.001432614696530278, 'm': 0.039798735106048436, 'n': 0.05671057688947903, 'o': 0.09116321324993891, 'p': 0.0008735455466648037, 'q': 0.00010482546559977636, 'r': 0.04280373178657535, 's': 0.04217477899297672, 't': 0.05699011146441176, 'u': 0.07061742199238273, 'v': 0.000244592753066145, 'w': 0.019742129354624566, 'x': 3.494182186659214e-05, 'y': 0.014151437855969822, 'z': 0.0077221426325168666, ' ': 0.12344945665467004}\n"
     ]
    }
   ],
   "source": [
    "print(f\"Class conditional log probabilities for English are: {e.class_conditional()}\")\n",
    "print(f\"Class conditional log probabilities for Spanish are: {s.class_conditional()}\")\n",
    "print(f\"Class conditional log probabilities for Japanese are: {j.class_conditional()}\")\n",
    "\n",
    "print(f\"Class conditional probabilities for English are: {e.convert_P()}\")\n",
    "print(f\"Class conditional probabilities for Spanish are: {s.convert_P()}\")\n",
    "print(f\"Class conditional probabilities for Japanese are: {j.convert_P()}\")"
   ]
  },
  {
   "cell_type": "code",
   "execution_count": 9,
   "metadata": {},
   "outputs": [],
   "source": [
    "def generate_latex_table(e, s, j):\n",
    "    latex_code = \"\\\\begin{table}[h!]\\n\"\n",
    "    latex_code += \"\\\\centering\\n\"\n",
    "    latex_code += \"\\\\begin{tabular}{c|ccc|ccc}\\n\"\n",
    "    latex_code += \"\\\\toprule\\n\"\n",
    "    latex_code += \"Character & $\\\\ln(P_e)$ & $\\\\ln(P_s)$ & $\\\\ln(P_j)$ & $P_e$ & $P_s$ & $P_j$ \\\\\\\\\\n\"\n",
    "    latex_code += \"\\\\midrule\\n\"\n",
    "\n",
    "    for char in 'abcdefghijklmnopqrstuvwxyz ':\n",
    "        latex_code += char + \" & \"\n",
    "        latex_code += \"{:.4f}\".format(e.lncc[char]) + \" & \"\n",
    "        latex_code += \"{:.4f}\".format(s.lncc[char]) + \" & \"\n",
    "        latex_code += \"{:.4f}\".format(j.lncc[char]) + \" & \"\n",
    "        latex_code += \"{:.4f}\".format(e.pcc[char]) + \" & \"\n",
    "        latex_code += \"{:.4f}\".format(s.pcc[char]) + \" & \"\n",
    "        latex_code += \"{:.4f}\".format(j.pcc[char])\n",
    "        latex_code += \" \\\\\\\\\\n\"\n",
    "\n",
    "    latex_code += \"\\\\bottomrule\\n\"\n",
    "    latex_code += \"\\\\end{tabular}\\n\"\n",
    "    latex_code += \"\\\\caption{Log class conditional probabilities and conditional probabilities for each character.}\\n\"\n",
    "    latex_code += \"\\\\end{table}\"\n",
    "\n",
    "    return latex_code\n"
   ]
  },
  {
   "cell_type": "code",
   "execution_count": 10,
   "metadata": {},
   "outputs": [
    {
     "name": "stdout",
     "output_type": "stream",
     "text": [
      "\\begin{table}[h!]\n",
      "\\centering\n",
      "\\begin{tabular}{c|ccc|ccc}\n",
      "\\toprule\n",
      "Character & $\\ln(P_e)$ & $\\ln(P_s)$ & $\\ln(P_j)$ & $P_e$ & $P_s$ & $P_j$ \\\\\n",
      "\\midrule\n",
      "a & -2.8106 & -2.2580 & -2.0267 & 0.0602 & 0.1046 & 0.1318 \\\\\n",
      "b & -4.4977 & -4.7996 & -4.5220 & 0.0111 & 0.0082 & 0.0109 \\\\\n",
      "c & -3.8392 & -3.2827 & -5.2056 & 0.0215 & 0.0375 & 0.0055 \\\\\n",
      "d & -3.8180 & -3.2252 & -4.0613 & 0.0220 & 0.0397 & 0.0172 \\\\\n",
      "e & -2.2503 & -2.1732 & -2.8100 & 0.1054 & 0.1138 & 0.0602 \\\\\n",
      "f & -3.9669 & -4.7557 & -5.5523 & 0.0189 & 0.0086 & 0.0039 \\\\\n",
      "g & -4.0468 & -4.9358 & -4.2679 & 0.0175 & 0.0072 & 0.0140 \\\\\n",
      "h & -3.0530 & -5.3964 & -3.4495 & 0.0472 & 0.0045 & 0.0318 \\\\\n",
      "i & -2.8930 & -2.9985 & -2.3327 & 0.0554 & 0.0499 & 0.0970 \\\\\n",
      "j & -6.5565 & -5.0162 & -6.0571 & 0.0014 & 0.0066 & 0.0023 \\\\\n",
      "k & -5.5904 & -8.1896 & -2.8575 & 0.0037 & 0.0003 & 0.0574 \\\\\n",
      "l & -3.5412 & -2.9385 & -6.5483 & 0.0290 & 0.0529 & 0.0014 \\\\\n",
      "m & -3.8864 & -3.6570 & -3.2239 & 0.0205 & 0.0258 & 0.0398 \\\\\n",
      "n & -2.8487 & -2.9155 & -2.8698 & 0.0579 & 0.0542 & 0.0567 \\\\\n",
      "o & -2.7416 & -2.6243 & -2.3951 & 0.0645 & 0.0725 & 0.0912 \\\\\n",
      "p & -4.0892 & -3.7186 & -7.0430 & 0.0168 & 0.0243 & 0.0009 \\\\\n",
      "q & -7.4845 & -4.8694 & -9.1632 & 0.0006 & 0.0077 & 0.0001 \\\\\n",
      "r & -2.9220 & -2.8252 & -3.1511 & 0.0538 & 0.0593 & 0.0428 \\\\\n",
      "s & -2.7153 & -2.7216 & -3.1659 & 0.0662 & 0.0658 & 0.0422 \\\\\n",
      "t & -2.5242 & -3.3350 & -2.8649 & 0.0801 & 0.0356 & 0.0570 \\\\\n",
      "u & -3.6244 & -3.3902 & -2.6505 & 0.0267 & 0.0337 & 0.0706 \\\\\n",
      "v & -4.6794 & -5.1346 & -8.3159 & 0.0093 & 0.0059 & 0.0002 \\\\\n",
      "w & -4.1671 & -9.2883 & -3.9250 & 0.0155 & 0.0001 & 0.0197 \\\\\n",
      "x & -6.7624 & -5.9924 & -10.2618 & 0.0012 & 0.0025 & 0.0000 \\\\\n",
      "y & -4.2799 & -4.8456 & -4.2579 & 0.0138 & 0.0079 & 0.0142 \\\\\n",
      "z & -7.3733 & -5.9210 & -4.8637 & 0.0006 & 0.0027 & 0.0077 \\\\\n",
      "  & -1.7190 & -1.7822 & -2.0919 & 0.1792 & 0.1683 & 0.1234 \\\\\n",
      "\\bottomrule\n",
      "\\end{tabular}\n",
      "\\caption{Log class conditional probabilities and conditional probabilities for each character.}\n",
      "\\end{table}\n"
     ]
    }
   ],
   "source": [
    "latex_output = generate_latex_table(e, s, j)\n",
    "print(latex_output)"
   ]
  },
  {
   "cell_type": "markdown",
   "metadata": {},
   "source": [
    "$$ \\hat{e} = argmax_{e} p(e|c) $$\n",
    "$$ \\hat{e} = argmax_{e} \\frac{ p(c|e) p(e) }{p(c)}$$"
   ]
  },
  {
   "cell_type": "code",
   "execution_count": 11,
   "metadata": {},
   "outputs": [
    {
     "name": "stdout",
     "output_type": "stream",
     "text": [
      "{'a': 164, 'b': 32, 'c': 53, 'd': 57, 'e': 311, 'f': 55, 'g': 51, 'h': 140, 'i': 140, 'j': 3, 'k': 6, 'l': 85, 'm': 64, 'n': 139, 'o': 182, 'p': 53, 'q': 3, 'r': 141, 's': 186, 't': 225, 'u': 65, 'v': 31, 'w': 47, 'x': 4, 'y': 38, 'z': 2, ' ': 498}\n"
     ]
    }
   ],
   "source": [
    "for doc in Doc:\n",
    "    if doc.testset == True and doc.fn == 'e10.txt':\n",
    "        #print('e10.txt found.')\n",
    "        print(doc.char_counts)\n",
    "        xhat = doc.char_counts\n",
    "        test_doc = doc"
   ]
  },
  {
   "cell_type": "markdown",
   "metadata": {},
   "source": [
    "$$\\hat{p}(X|y) = \\prod_{i=1}^{d} \\theta_{i,y}^{x_{i}}$$\n",
    "$$log(\\hat{p}(X|y)) = \\sum_{i=1}^{d} log(\\theta_{i,y}^{x_{i}})$$\n",
    "$$log(\\hat{p}{X|Y = y}) = \\sum_{i = a}^{i=space}x_{i}*log(\\theta_{i, Y=y})$$"
   ]
  },
  {
   "cell_type": "code",
   "execution_count": 12,
   "metadata": {},
   "outputs": [
    {
     "name": "stdout",
     "output_type": "stream",
     "text": [
      "For test document e10.txt, log conditional probabilities are: \n",
      " For y = e, -7841.865447060635 \n",
      " For y = j, -8771.433079075032 \n",
      " For y = s, -8467.282044010557\n",
      "For test document e10.txt, conditional probabilities are: \n",
      " For y = e, 0.000000e+00 \n",
      " For y = j, 0.000000e+00 \n",
      " For y = s, 0.000000e+00\n"
     ]
    }
   ],
   "source": [
    "#print(f\"As a reminder, class conditionals are the following \\n e: {e.pcc}, s: {s.pcc}, j: {j.pcc}\")\n",
    "\n",
    "lconditional_e = 0\n",
    "lconditional_j = 0\n",
    "lconditional_s = 0\n",
    "\n",
    "for char, val in xhat.items():\n",
    "    char_count = test_doc.char_counts\n",
    "    lconditional_e += val * np.log(e.pcc[char])\n",
    "    lconditional_j += val * np.log(j.pcc[char])\n",
    "    lconditional_s += val * np.log(s.pcc[char])\n",
    "conditional_e = np.exp(lconditional_e)\n",
    "conditional_j = np.exp(lconditional_j)\n",
    "conditional_s = np.exp(lconditional_s)\n",
    "print(f\"For test document e10.txt, log conditional probabilities are: \\n For y = e, {lconditional_e} \\n For y = j, {lconditional_j} \\n For y = s, {lconditional_s}\")\n",
    "print(f\"For test document e10.txt, conditional probabilities are: \\n For y = e, {conditional_e:.6e} \\n For y = j, {conditional_j:.6e} \\n For y = s, {conditional_s:.6e}\")\n"
   ]
  },
  {
   "cell_type": "markdown",
   "metadata": {},
   "source": [
    "$$p(Y=y|x) = \\frac{p(x|Y=y)p(Y=y)}{p(x)}$$\n",
    "$$log(p(Y=y|x)) = log(p(x|Y=y)) + log(p(Y=y)) - log(p(x))$$\n",
    "Omitting $p(x)$ for stability\n",
    "\n",
    "$$p(Y=y|x) = p(x|Y=y)p(Y=y)$$\n",
    "$$log(p(Y=y|x)) = log(p(x|Y=y)) + log(p(Y=y))$$\n",
    "\n"
   ]
  },
  {
   "cell_type": "code",
   "execution_count": 13,
   "metadata": {},
   "outputs": [
    {
     "name": "stdout",
     "output_type": "stream",
     "text": [
      "Log priors are {'e': -1.0986122886681098, 's': -1.0986122886681098, 'j': -1.0986122886681098}\n",
      "Log conditionals for e10.txt are e: -7841.865447060635, j: -8771.433079075032, s: -8467.282044010557\n",
      "Omitting p(x) for stability: \n",
      "log(p(Y=e | x = e10.txt)) is -7842.964059349303\n",
      "p(Y=e | x = e10.txt) is 0.0\n",
      "log(p(Y=s | x = e10.txt)) is -8468.380656299225\n",
      "p(Y=s | x = e10.txt) is 0.0\n",
      "log(p(Y=j | x = e10.txt)) is -8772.5316913637\n",
      "p(Y=j | x = e10.txt) is 0.0\n",
      "Finding the normalization factor manually:\n"
     ]
    }
   ],
   "source": [
    "print(f\"Log priors are {logpriors}\")\n",
    "print(f\"Log conditionals for e10.txt are e: {lconditional_e}, j: {lconditional_j}, s: {lconditional_s}\")\n",
    "print(f\"Omitting p(x) for stability: \")\n",
    "lposteriori_e = logpriors['e'] + lconditional_e\n",
    "lposteriori_j = logpriors['j'] + lconditional_j\n",
    "lposteriori_s = logpriors['s'] + lconditional_s\n",
    "\n",
    "print(f\"log(p(Y=e | x = e10.txt)) is {lposteriori_e}\")\n",
    "print(f\"p(Y=e | x = e10.txt) is {np.exp(lposteriori_e)}\")\n",
    "print(f\"log(p(Y=s | x = e10.txt)) is {lposteriori_s}\")\n",
    "print(f\"p(Y=s | x = e10.txt) is {np.exp(lposteriori_s)}\")\n",
    "print(f\"log(p(Y=j | x = e10.txt)) is {lposteriori_j}\")\n",
    "print(f\"p(Y=j | x = e10.txt) is {np.exp(lposteriori_j)}\")\n",
    "\n",
    "print(f\"Finding the normalization factor manually:\")\n"
   ]
  },
  {
   "cell_type": "markdown",
   "metadata": {},
   "source": [
    "Generating the confusion matrix."
   ]
  },
  {
   "cell_type": "code",
   "execution_count": 14,
   "metadata": {},
   "outputs": [
    {
     "name": "stdout",
     "output_type": "stream",
     "text": [
      "{'e': {'e': 10, 's': 0, 'j': 0}, 's': {'e': 0, 's': 10, 'j': 0}, 'j': {'e': 0, 's': 0, 'j': 10}}\n"
     ]
    }
   ],
   "source": [
    "### First key is the correct label, second key is the predicted label\n",
    "predictions = {'e': {'e': 0, 's':0, 'j':0 }, 's': {'e': 0, 's':0, 'j':0 }, 'j':{'e': 0, 's':0, 'j':0 }}\n",
    "for doc in Doc:\n",
    "    if doc.testset:\n",
    "        lab = doc.label\n",
    "        #print(f\"True label is {lab} for doc {doc.fn}\")\n",
    "        lconditional = {'e' : 0, 's': 0, 'j' :0}\n",
    "\n",
    "        ### Creating the bag of words representation for the document:\n",
    "        xhat = doc.char_counts\n",
    "        #print(f\"For the document {doc.fn}, bag of word count is {xhat}\")\n",
    "        for char, val in xhat.items():\n",
    "            ### Char count * log(p(c | y = Y))\n",
    "            lconditional['e'] += val * np.log(e.pcc[char])\n",
    "            lconditional['s'] += val * np.log(s.pcc[char])\n",
    "            lconditional['j'] += val * np.log(j.pcc[char])\n",
    "        \n",
    "        lposteriori = {'e' : 0, 's': 0, 'j' :0}\n",
    "        for key, i in lposteriori.items():\n",
    "            lposteriori[key] = lconditional[key] + logpriors[key]\n",
    "        #print(f\"Posteriori for {doc.fn} is {lposteriori}\")\n",
    "        pred = max(lposteriori, key=lposteriori.get)\n",
    "        predictions[lab][pred] += 1\n",
    "print(predictions) "
   ]
  }
 ],
 "metadata": {
  "kernelspec": {
   "display_name": "Python 3",
   "language": "python",
   "name": "python3"
  },
  "language_info": {
   "codemirror_mode": {
    "name": "ipython",
    "version": 3
   },
   "file_extension": ".py",
   "mimetype": "text/x-python",
   "name": "python",
   "nbconvert_exporter": "python",
   "pygments_lexer": "ipython3",
   "version": "3.9.6"
  }
 },
 "nbformat": 4,
 "nbformat_minor": 2
}
