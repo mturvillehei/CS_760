{
 "cells": [
  {
   "cell_type": "markdown",
   "metadata": {},
   "source": [
    "Morgan Turville-Heitz\n",
    "CS 760\n",
    "10/18/2023"
   ]
  },
  {
   "cell_type": "code",
   "execution_count": 16,
   "metadata": {},
   "outputs": [],
   "source": [
    "\n",
    "import pandas as pd\n",
    "import numpy as np\n",
    "import os\n",
    "import ipykernel"
   ]
  },
  {
   "cell_type": "markdown",
   "metadata": {},
   "source": [
    "Defining the Doc class, where counts/vectors are stored for each document."
   ]
  },
  {
   "cell_type": "code",
   "execution_count": 17,
   "metadata": {},
   "outputs": [],
   "source": [
    "class docRegistry(type):\n",
    "    def __iter__(cls):\n",
    "        return iter(cls._registry)\n",
    "    "
   ]
  },
  {
   "cell_type": "code",
   "execution_count": 18,
   "metadata": {},
   "outputs": [],
   "source": [
    "class Doc(metaclass=docRegistry):\n",
    "    _registry = []\n",
    "\n",
    "    def __init__(self, raw, fn):\n",
    "        self._registry.append(self)\n",
    "        self.fn = fn\n",
    "        self.vector = self.vectorize(raw)\n",
    "        self.char_counts = self.count(self.vector)\n",
    "        self.label = fn[0]\n",
    "        self.pe = None\n",
    "        self.pj = None\n",
    "        self.ps = None\n",
    "\n",
    "    def vectorize(self, data):\n",
    "        ### Stripping newlines/special characters\n",
    "        filtered = ''.join([char for char in data if char.isalpha() or char == ' '])\n",
    "        return list(filtered)\n",
    "\n",
    "    def count(self, vector):\n",
    "        count = {char: 0 for char in 'abcdefghijklmnopqrstuvwxyz '}\n",
    "        for char in vector:\n",
    "            count[char]+=1\n",
    "        return count\n"
   ]
  },
  {
   "cell_type": "markdown",
   "metadata": {},
   "source": [
    "Loading files, creating the Doc class for each file."
   ]
  },
  {
   "cell_type": "code",
   "execution_count": 19,
   "metadata": {},
   "outputs": [],
   "source": [
    "direc = r\"C:\\Users\\Meau\\Documents\\GRAD SCHOOL\\CS 760\\Hw4\\languageID\"\n",
    "files = os.listdir(direc)\n",
    "for txtfile in files:\n",
    "    path = os.path.join(direc, txtfile)\n",
    "    with open(path, 'r') as file:\n",
    "        raw = file.read()\n",
    "    Doc(raw, str(txtfile))"
   ]
  },
  {
   "cell_type": "markdown",
   "metadata": {},
   "source": [
    "Calculating the priors, with additive smoothing $$ P(x) = \\frac{n(x) + \\alpha}{N + k \\alpha }, \\alpha = \\frac{1}{2} $$ \n"
   ]
  },
  {
   "cell_type": "code",
   "execution_count": 25,
   "metadata": {},
   "outputs": [
    {
     "data": {
      "text/plain": [
       "{'e': 0.3333333333333333, 's': 0.3333333333333333, 'j': 0.3333333333333333}"
      ]
     },
     "execution_count": 25,
     "metadata": {},
     "output_type": "execute_result"
    }
   ],
   "source": [
    "counts = {\"e\":0, \"s\":0, \"j\":0}\n",
    "logpriors = {\"e\":0, \"s\":0, \"j\":0}\n",
    "alpha = 0.5\n",
    "Nd = 0\n",
    "k = 3\n",
    "for doc in Doc:\n",
    "    Nd += 1\n",
    "    lang = doc.label\n",
    "    counts[lang] += 1\n",
    "\n",
    "for la in counts.keys():\n",
    "    logpriors[la] = np.log((counts[la] + alpha ) / (Nd + k * alpha))\n",
    "\n",
    "\n",
    "priors = {la : np.exp(logpriors[la]) for la in logpriors.keys()}\n",
    "\n",
    "priors"
   ]
  }
 ],
 "metadata": {
  "kernelspec": {
   "display_name": "Python 3",
   "language": "python",
   "name": "python3"
  },
  "language_info": {
   "codemirror_mode": {
    "name": "ipython",
    "version": 3
   },
   "file_extension": ".py",
   "mimetype": "text/x-python",
   "name": "python",
   "nbconvert_exporter": "python",
   "pygments_lexer": "ipython3",
   "version": "3.9.6"
  }
 },
 "nbformat": 4,
 "nbformat_minor": 2
}
