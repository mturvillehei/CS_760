{
 "cells": [
  {
   "cell_type": "markdown",
   "metadata": {},
   "source": [
    "Morgan Turville-Heitz\n",
    "CS 760\n",
    "10/18/2023"
   ]
  },
  {
   "cell_type": "code",
   "execution_count": 1,
   "metadata": {},
   "outputs": [],
   "source": [
    "\n",
    "import pandas as pd\n",
    "import numpy as np\n",
    "import os\n",
    "import ipykernel"
   ]
  },
  {
   "cell_type": "markdown",
   "metadata": {},
   "source": [
    "Defining the Doc class, where counts/vectors are stored for each document."
   ]
  },
  {
   "cell_type": "code",
   "execution_count": 14,
   "metadata": {},
   "outputs": [],
   "source": [
    "class Doc():\n",
    "\n",
    "    def __init__(self, raw, fn):\n",
    "        self.fn = fn\n",
    "        self.vector = self.vectorize(raw)\n",
    "        self.char_counts = self.count(self.vector)\n",
    "        self.label = fn[0]\n",
    "\n",
    "    def vectorize(self, data):\n",
    "        ### Stripping newlines/special characters\n",
    "        filtered = ''.join([char for char in data if char.isalpha() or char == ' '])\n",
    "        return list(filtered)\n",
    "\n",
    "    def count(self, vector):\n",
    "        count = {char: 0 for char in 'abcdefghijklmnopqrstuvwxyz '}\n",
    "        for char in vector:\n",
    "            count[char]+=1\n",
    "        return count"
   ]
  },
  {
   "cell_type": "markdown",
   "metadata": {},
   "source": [
    "Loading files, creating the Doc class for each file."
   ]
  },
  {
   "cell_type": "code",
   "execution_count": 15,
   "metadata": {},
   "outputs": [],
   "source": [
    "direc = r\"C:\\Users\\Meau\\Documents\\GRAD SCHOOL\\CS 760\\Hw4\\languageID\"\n",
    "files = os.listdir(direc)\n",
    "for txtfile in files:\n",
    "    path = os.path.join(direc, txtfile)\n",
    "    with open(path, 'r') as file:\n",
    "        raw = file.read()\n",
    "    Doc(raw, str(txtfile))"
   ]
  },
  {
   "cell_type": "code",
   "execution_count": null,
   "metadata": {},
   "outputs": [],
   "source": []
  }
 ],
 "metadata": {
  "kernelspec": {
   "display_name": "Python 3",
   "language": "python",
   "name": "python3"
  },
  "language_info": {
   "codemirror_mode": {
    "name": "ipython",
    "version": 3
   },
   "file_extension": ".py",
   "mimetype": "text/x-python",
   "name": "python",
   "nbconvert_exporter": "python",
   "pygments_lexer": "ipython3",
   "version": "3.9.6"
  }
 },
 "nbformat": 4,
 "nbformat_minor": 2
}
