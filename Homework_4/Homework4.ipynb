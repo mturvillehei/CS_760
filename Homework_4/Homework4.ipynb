{
 "cells": [
  {
   "cell_type": "markdown",
   "metadata": {},
   "source": [
    "Morgan Turville-Heitz\n",
    "CS 760\n",
    "10/18/2023"
   ]
  },
  {
   "cell_type": "code",
   "execution_count": 60,
   "metadata": {},
   "outputs": [],
   "source": [
    "\n",
    "import pandas as pd\n",
    "import numpy as np\n",
    "import os\n",
    "import ipykernel"
   ]
  },
  {
   "cell_type": "markdown",
   "metadata": {},
   "source": [
    "Defining the Doc class, where counts/vectors are stored for each document."
   ]
  },
  {
   "cell_type": "code",
   "execution_count": 61,
   "metadata": {},
   "outputs": [],
   "source": [
    "class docRegistry(type):\n",
    "    def __iter__(cls):\n",
    "        return iter(cls._registry)\n",
    "    "
   ]
  },
  {
   "cell_type": "code",
   "execution_count": 62,
   "metadata": {},
   "outputs": [],
   "source": [
    "class Doc(metaclass=docRegistry):\n",
    "    _registry = []\n",
    "\n",
    "    def __init__(self, raw, fn):\n",
    "        self._registry.append(self)\n",
    "        self.fn = fn\n",
    "        self.vector = self.vectorize(raw)\n",
    "        self.char_counts = self.count(self.vector)\n",
    "        self.label = fn[0]\n",
    "        self.pe = None\n",
    "        self.pj = None\n",
    "        self.ps = None\n",
    "\n",
    "    def vectorize(self, data):\n",
    "        ### Stripping newlines/special characters\n",
    "        filtered = ''.join([char for char in data if char.isalpha() or char == ' '])\n",
    "        return list(filtered)\n",
    "\n",
    "    def count(self, vector):\n",
    "        count = {char: 0 for char in 'abcdefghijklmnopqrstuvwxyz '}\n",
    "        for char in vector:\n",
    "            count[char]+=1\n",
    "        return count\n"
   ]
  },
  {
   "cell_type": "markdown",
   "metadata": {},
   "source": [
    "For each language, I have a separate class."
   ]
  },
  {
   "cell_type": "markdown",
   "metadata": {},
   "source": [
    "Natural log form of the class conditional probability is \n",
    "$$\\ln(P(c_{i}|e)) = \\ln(n(c_{i,e}) + \\alpha) - \\ln(N_{c} + |c| \\alpha)$$"
   ]
  },
  {
   "cell_type": "code",
   "execution_count": 63,
   "metadata": {},
   "outputs": [],
   "source": [
    "class label():\n",
    "    def __init__(self, prior, smoothing=0.5):\n",
    "        self.prior = prior\n",
    "        self.char_count = None\n",
    "        self.ntot = None\n",
    "        self.smoothing = smoothing\n",
    "        self.lncc = None\n",
    "        self.pcc = None\n",
    "\n",
    "    def class_conditional(self):\n",
    "        lncc = {char: 0 for char in 'abcdefghijklmnopqrstuvwxyz '}\n",
    "        ctot = 27\n",
    "        for char in lncc.keys():\n",
    "            d = np.log(self.char_count[char] + self.smoothing)\n",
    "            n = np.log(self.ntot + self.smoothing * ctot)\n",
    "            lncc[char] = d - n\n",
    "        self.lncc = lncc\n",
    "        return lncc\n",
    "    \n",
    "    def convert_P(self):\n",
    "        lncc = self.lncc\n",
    "        self.pcc = {char: np.exp(val) for char, val in lncc.items()}\n",
    "        return self.pcc\n"
   ]
  },
  {
   "cell_type": "markdown",
   "metadata": {},
   "source": [
    "Loading files, creating the Doc class for each file."
   ]
  },
  {
   "cell_type": "code",
   "execution_count": 64,
   "metadata": {},
   "outputs": [],
   "source": [
    "direc = r\"C:\\Users\\Meau\\Documents\\GRAD SCHOOL\\CS 760\\Hw4\\languageID\"\n",
    "files = os.listdir(direc)\n",
    "for txtfile in files:\n",
    "    path = os.path.join(direc, txtfile)\n",
    "    with open(path, 'r') as file:\n",
    "        raw = file.read()\n",
    "    Doc(raw, str(txtfile))"
   ]
  },
  {
   "cell_type": "markdown",
   "metadata": {},
   "source": [
    "Calculating the priors, with additive smoothing $$ P(x) = \\frac{n(x) + \\alpha}{N + k \\alpha }, \\alpha = \\frac{1}{2} $$ \n"
   ]
  },
  {
   "cell_type": "code",
   "execution_count": 65,
   "metadata": {},
   "outputs": [
    {
     "name": "stdout",
     "output_type": "stream",
     "text": [
      "Priors for languages are: {'e': 0.3333333333333333, 's': 0.3333333333333333, 'j': 0.3333333333333333}\n"
     ]
    }
   ],
   "source": [
    "counts = {\"e\":0, \"s\":0, \"j\":0}\n",
    "logpriors = {\"e\":0, \"s\":0, \"j\":0}\n",
    "alpha = 0.5\n",
    "Nd = 0\n",
    "k = 3\n",
    "for doc in Doc:\n",
    "    Nd += 1\n",
    "    lang = doc.label\n",
    "    counts[lang] += 1\n",
    "for la in counts.keys():\n",
    "    logpriors[la] = np.log((counts[la] + alpha ) / (Nd + k * alpha))\n",
    "    \n",
    "e = label(logpriors[\"e\"])\n",
    "s = label(logpriors[\"s\"])\n",
    "j = label(logpriors[\"j\"])\n",
    "\n",
    "priors = {la : np.exp(logpriors[la]) for la in logpriors.keys()}\n",
    "print(f\"Priors for languages are: {priors}\")"
   ]
  },
  {
   "cell_type": "markdown",
   "metadata": {},
   "source": [
    "Class conditional probability is $\\theta_{i,e}\\coloneqq \\hat{p} (c_{i} | y = e)$ for $i$-th character $c_{i}$.\n",
    "$\\theta_{i,e}$ is the multinomial parameter.\n",
    "\n",
    "With additive smoothing, this becomes $$ P(c_{i}|e) = \\frac{n(c_{i,e}) + \\alpha}{N_{c} + |c| \\alpha } $$\n",
    "where $ |c| $ is the number of characters (in this case, 27).\n",
    "Looking for the conditional probability so we can find the a posteriori with prior.\n"
   ]
  },
  {
   "cell_type": "code",
   "execution_count": null,
   "metadata": {},
   "outputs": [],
   "source": [
    "\n",
    "ctot = {char: 0 for char in 'abcdefghijklmnopqrstuvwxyz '}\n",
    "ntot = 0\n",
    "for doc in Doc:\n",
    "    if doc.label != \"e\":\n",
    "        continue\n",
    "\n",
    "    count = doc.char_counts\n",
    "    for char, char_count in count.items():\n",
    "        ntot += char_count\n",
    "        ctot[char] += char_count\n",
    "e.char_count = ctot\n",
    "e.ntot = ntot\n",
    "\n",
    "ctot = {char: 0 for char in 'abcdefghijklmnopqrstuvwxyz '}\n",
    "ntot = 0\n",
    "for doc in Doc:\n",
    "    if doc.label != \"s\":\n",
    "        continue\n",
    "\n",
    "    count = doc.char_counts\n",
    "    for char, char_count in count.items():\n",
    "        ntot += char_count\n",
    "        ctot[char] += char_count\n",
    "s.char_count = ctot\n",
    "s.ntot = ntot\n",
    "\n",
    "ctot = {char: 0 for char in 'abcdefghijklmnopqrstuvwxyz '}\n",
    "ntot = 0\n",
    "for doc in Doc:\n",
    "    if doc.label != \"j\":\n",
    "        continue\n",
    "\n",
    "    count = doc.char_counts\n",
    "    for char, char_count in count.items():\n",
    "        ntot += char_count\n",
    "        ctot[char] += char_count\n",
    "j.char_count = ctot\n",
    "j.ntot = ntot\n"
   ]
  },
  {
   "cell_type": "markdown",
   "metadata": {},
   "source": [
    "Class conditional probabilities (and their natural log) is calculated in the label class. Printing here."
   ]
  },
  {
   "cell_type": "code",
   "execution_count": 67,
   "metadata": {},
   "outputs": [
    {
     "name": "stdout",
     "output_type": "stream",
     "text": [
      "Class conditional log probabilities for English are: {'a': -2.7865811234361626, 'b': -4.427169857735544, 'c': -3.8260913630557525, 'd': -3.8106767996545665, 'e': -2.244746660701587, 'f': -3.912573312696918, 'g': -4.134482622472095, 'h': -3.0668898205344055, 'i': -2.9055378849476314, 'j': -7.0579966882142875, 'k': -5.523423654744361, 'l': -3.501712297068451, 'm': -3.8094029141319776, 'n': -2.8572266038846204, 'o': -2.7322368688297782, 'p': -4.110112399868934, 'q': -7.277050254276972, 'r': -2.9849148350826447, 's': -2.752382065092994, 't': -2.485315823756136, 'u': -3.662828373869477, 'v': -4.690360910179029, 'w': -4.168536092112369, 'x': -6.726219295897282, 'y': -4.313461753777671, 'z': -7.557952639743375, ' ': -1.717861102231387}\n",
      "Class conditional log probabilities for Spanish are: {'a': -2.239267033006646, 'b': -4.646197151180955, 'c': -3.3036929956807963, 'd': -3.2068431696908783, 'e': -2.1861391161676735, 'f': -4.911394042719514, 'g': -4.933324746213484, 'h': -5.3443485123254755, 'i': -2.9956843643897564, 'j': -5.002159252033781, 'k': -8.336741884613952, 'l': -2.934965809697686, 'm': -3.7007192351430964, 'n': -2.912379411215256, 'o': -2.648411514516673, 'p': -3.7229423719278065, 'q': -4.860643194778679, 'r': -2.8382084713954105, 's': -2.7127243784266133, 't': -3.3426877456651125, 'u': -3.352678746120696, 'v': -5.128590023108727, 'w': -8.211578741659945, 'x': -5.963387720731699, 'y': -4.907065031629928, 'z': -5.7120732924507935, ' ': -1.7811953474395477}\n",
      "Class conditional log probabilities for Japanese are: {'a': -2.0239957720584574, 'b': -4.612559917507956, 'c': -5.25633536947382, 'd': -4.112260706728953, 'e': -2.813555089820274, 'f': -5.66014072616362, 'g': -4.20767671223844, 'h': -3.4585035658265246, 'i': -2.3129460754982336, 'j': -6.1676550886259545, 'k': -2.8614649023695025, 'l': -6.729339129625436, 'm': -3.1983007312865643, 'n': -2.8657150605584762, 'o': -2.4037678312003026, 'p': -7.249873567518388, 'q': -9.864833345554587, 'r': -3.155935592006503, 's': -3.155935592006503, 't': -2.8476259330113693, 'u': -2.6552465710162485, 'v': -8.565550361424325, 'w': -3.8978322706249786, 'x': -10.963445634222696, 'y': -4.280084688456421, 'z': -4.860887039609127, ' ': -2.098557700448506}\n",
      "Class conditional probabilities for English are: {'a': 0.06163156484080745, 'b': 0.011948257134393205, 'c': 0.021794636685522437, 'd': 0.022133194148598496, 'e': 0.10595437938185046, 'f': 0.01998899688245002, 'g': 0.016010946691306125, 'h': 0.04656575773392204, 'i': 0.05471934996967088, 'j': 0.0008605002186516946, 'k': 0.0039921567521054024, 'l': 0.030145720774732314, 'm': 0.02216140727052151, 'n': 0.057427809674279455, 'o': 0.06507356571541421, 'p': 0.016405930398228206, 'q': 0.0006912214871136564, 'r': 0.05054380792506594, 's': 0.06377576210695589, 't': 0.08329924247767632, 'u': 0.02565983438897429, 'v': 0.00918337118593858, 'w': 0.015474897374768993, 'x': 0.0011990576817277711, 'y': 0.013387126352466529, 'z': 0.0005219427555756177, ' ': 0.1794495619912822}\n",
      "Class conditional probabilities for Spanish are: {'a': 0.10653656355302886, 'b': 0.00959803248319147, 'c': 0.03674720922433208, 'd': 0.040484213552230267, 'e': 0.11234968139642589, 'f': 0.007362217928038716, 'g': 0.00720251688838495, 'h': 0.004775061085647673, 'i': 0.05000239551559485, 'j': 0.00672341376942364, 'k': 0.00023955155948065246, 'l': 0.05313253589280868, 'm': 0.02470575083443794, 'n': 0.054346263794177355, 'o': 0.07076353067058469, 'p': 0.024162767299615133, 'q': 0.00774550042320776, 'r': 0.05853043103310605, 's': 0.06635578197614074, 't': 0.03534184007537892, 'u': 0.03499049778814062, 'v': 0.005924908571154801, 'w': 0.00027149176741140624, 'x': 0.0025711867384256687, 'y': 0.00739415813596947, 'z': 0.0033058115208330014, ' ': 0.16843668652282942}\n",
      "Class conditional probabilities for Japanese are: {'a': 0.13212646167171938, 'b': 0.009926375054135995, 'c': 0.005214378518839324, 'd': 0.016370723256821144, 'e': 0.05999133824166307, 'f': 0.0034820268514508456, 'g': 0.014880900822867053, 'h': 0.03147682979644869, 'i': 0.09896925075790385, 'j': 0.002096145517540062, 'k': 0.05718492854049376, 'l': 0.0011953226504980519, 'm': 0.040831528800346496, 'n': 0.05694239930705936, 'o': 0.09037678648765707, 'p': 0.0007102641836292771, 'q': 5.197055002165438e-05, 'r': 0.04259852750108275, 's': 0.04259852750108275, 't': 0.05798181030749243, 'u': 0.07028150714595065, 'v': 0.00019055868341273286, 'w': 0.0202858380251191, 'x': 1.7323516673884805e-05, 'y': 0.013841489822433958, 'z': 0.00774361195322651, ' ': 0.12263317453443061}\n"
     ]
    }
   ],
   "source": [
    "print(f\"Class conditional log probabilities for English are: {e.class_conditional()}\")\n",
    "print(f\"Class conditional log probabilities for Spanish are: {s.class_conditional()}\")\n",
    "print(f\"Class conditional log probabilities for Japanese are: {j.class_conditional()}\")\n",
    "\n",
    "print(f\"Class conditional probabilities for English are: {e.convert_P()}\")\n",
    "print(f\"Class conditional probabilities for Spanish are: {s.convert_P()}\")\n",
    "print(f\"Class conditional probabilities for Japanese are: {j.convert_P()}\")"
   ]
  },
  {
   "cell_type": "markdown",
   "metadata": {},
   "source": [
    "$$ \\hat{e} = argmax_{e} p(e|c) $$\n",
    "$$ \\hat{e} = argmax_{e} \\frac{ p(c|e) p(e) }{p(c)}$$"
   ]
  },
  {
   "cell_type": "code",
   "execution_count": null,
   "metadata": {},
   "outputs": [],
   "source": []
  }
 ],
 "metadata": {
  "kernelspec": {
   "display_name": "Python 3",
   "language": "python",
   "name": "python3"
  },
  "language_info": {
   "codemirror_mode": {
    "name": "ipython",
    "version": 3
   },
   "file_extension": ".py",
   "mimetype": "text/x-python",
   "name": "python",
   "nbconvert_exporter": "python",
   "pygments_lexer": "ipython3",
   "version": "3.9.6"
  }
 },
 "nbformat": 4,
 "nbformat_minor": 2
}
