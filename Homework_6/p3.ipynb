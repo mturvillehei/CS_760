{
 "cells": [
  {
   "cell_type": "code",
   "execution_count": 1,
   "metadata": {},
   "outputs": [],
   "source": [
    "import pandas as pd\n",
    "import numpy as np\n"
   ]
  },
  {
   "cell_type": "code",
   "execution_count": 3,
   "metadata": {},
   "outputs": [],
   "source": [
    "data = {\n",
    "    'X': ['T', 'T', 'T', 'T', 'F', 'F', 'F', 'F'],\n",
    "    'Y': ['T', 'T', 'F', 'F', 'T', 'T', 'F', 'F'],\n",
    "    'Z': ['T', 'F', 'T', 'F', 'T', 'F', 'T', 'F'],\n",
    "    'Count': [36, 4, 2, 8, 1, 9, 8, 32]\n",
    "}\n",
    "df = pd.DataFrame(data)\n",
    "df\n",
    "N = 100"
   ]
  },
  {
   "cell_type": "code",
   "execution_count": 5,
   "metadata": {},
   "outputs": [
    {
     "data": {
      "text/plain": [
       "0.27807190511263774"
      ]
     },
     "execution_count": 5,
     "metadata": {},
     "output_type": "execute_result"
    }
   ],
   "source": [
    "### I(x,y)\n",
    "\n",
    "p_x = df.groupby('X')['Count'].sum() / df['Count'].sum()\n",
    "p_y = df.groupby('Y')['Count'].sum() / df['Count'].sum()\n",
    "p_xy = df.groupby(['X', 'Y'])['Count'].sum() / df['Count'].sum()\n",
    "\n",
    "I_xy = 0\n",
    "for x in p_x.index:\n",
    "    for y in p_y.index:\n",
    "        if (x, y) in p_xy.index:\n",
    "            p_x_y = p_xy[x][y]\n",
    "            I_xy += p_x_y * np.log2(p_x_y / (p_x[x] * p_y[y]))\n",
    "\n",
    "I_xy"
   ]
  },
  {
   "cell_type": "code",
   "execution_count": 8,
   "metadata": {},
   "outputs": [
    {
     "data": {
      "text/plain": [
       "0.2598429260113385"
      ]
     },
     "execution_count": 8,
     "metadata": {},
     "output_type": "execute_result"
    }
   ],
   "source": [
    "### I(x,z)\n",
    "\n",
    "p_x = df.groupby('X')['Count'].sum() / df['Count'].sum()\n",
    "p_z = df.groupby('Z')['Count'].sum() / df['Count'].sum()\n",
    "p_xz = df.groupby(['X', 'Z'])['Count'].sum() / df['Count'].sum()\n",
    "\n",
    "I_xz = 0\n",
    "for x in p_x.index:\n",
    "    for z in p_z.index:\n",
    "        if (x, z) in p_xz.index:\n",
    "            p_x_z = p_xz[x][z]\n",
    "            I_xz += p_x_z * np.log2(p_x_z / (p_x[x] * p_z[z]))\n",
    "\n",
    "I_xz"
   ]
  },
  {
   "cell_type": "code",
   "execution_count": 9,
   "metadata": {},
   "outputs": [
    {
     "data": {
      "text/plain": [
       "0.22306435487774956"
      ]
     },
     "execution_count": 9,
     "metadata": {},
     "output_type": "execute_result"
    }
   ],
   "source": [
    "### I(y,z)\n",
    "\n",
    "p_y = df.groupby('Y')['Count'].sum() / df['Count'].sum()\n",
    "p_z = df.groupby('Z')['Count'].sum() / df['Count'].sum()\n",
    "p_yz = df.groupby(['Y', 'Z'])['Count'].sum() / df['Count'].sum()\n",
    "\n",
    "I_yz = 0\n",
    "for y in p_y.index:\n",
    "    for z in p_z.index:\n",
    "        if (y, z) in p_yz.index:\n",
    "            p_y_z = p_yz[y][z]\n",
    "            I_yz += p_y_z * np.log2(p_y_z / (p_y[y] * p_z[z]))\n",
    "\n",
    "I_yz"
   ]
  }
 ],
 "metadata": {
  "kernelspec": {
   "display_name": "Python 3",
   "language": "python",
   "name": "python3"
  },
  "language_info": {
   "codemirror_mode": {
    "name": "ipython",
    "version": 3
   },
   "file_extension": ".py",
   "mimetype": "text/x-python",
   "name": "python",
   "nbconvert_exporter": "python",
   "pygments_lexer": "ipython3",
   "version": "3.9.6"
  }
 },
 "nbformat": 4,
 "nbformat_minor": 2
}
